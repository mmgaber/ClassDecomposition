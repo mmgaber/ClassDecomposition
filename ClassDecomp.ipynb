{
  "nbformat": 4,
  "nbformat_minor": 0,
  "metadata": {
    "colab": {
      "provenance": [],
      "authorship_tag": "ABX9TyMzIU9a2JDKpne+ERRBXlrV",
      "include_colab_link": true
    },
    "kernelspec": {
      "name": "python3",
      "display_name": "Python 3"
    },
    "language_info": {
      "name": "python"
    }
  },
  "cells": [
    {
      "cell_type": "markdown",
      "metadata": {
        "id": "view-in-github",
        "colab_type": "text"
      },
      "source": [
        "<a href=\"https://colab.research.google.com/github/mmgaber/ClassDecomposition/blob/main/ClassDecomp.ipynb\" target=\"_parent\"><img src=\"https://colab.research.google.com/assets/colab-badge.svg\" alt=\"Open In Colab\"/></a>"
      ]
    },
    {
      "cell_type": "code",
      "execution_count": 1,
      "metadata": {
        "colab": {
          "base_uri": "https://localhost:8080/"
        },
        "id": "sHWjCwlY6W9I",
        "outputId": "a58e6063-e8aa-4676-ec2a-828f909b614a"
      },
      "outputs": [
        {
          "output_type": "stream",
          "name": "stdout",
          "text": [
            "Subclass Predictions:\n",
            "['0_cluster_0' '0_cluster_0' '0_cluster_1' '0_cluster_0' '0_cluster_1'\n",
            " '0_cluster_0' '0_cluster_1' '0_cluster_0' '0_cluster_1' '0_cluster_1'\n",
            " '1_cluster_1' '1_cluster_1' '1_cluster_1' '1_cluster_0' '1_cluster_1'\n",
            " '1_cluster_0' '1_cluster_1' '1_cluster_2' '1_cluster_0' '2_cluster_1'\n",
            " '2_cluster_1' '2_cluster_0' '2_cluster_1' '2_cluster_0' '2_cluster_0'\n",
            " '2_cluster_0' '2_cluster_1' '2_cluster_1' '2_cluster_0' '2_cluster_1']\n",
            "Equivalent Class Predictions:\n",
            "[0 0 0 0 0 0 0 0 0 0 1 1 1 1 1 1 1 1 1 2 2 2 2 2 2 2 2 2 2 2]\n",
            "\n",
            "Confusion Matrix (Class Level):\n",
            "[[2 4 4]\n",
            " [6 3 0]\n",
            " [2 2 7]]\n"
          ]
        },
        {
          "output_type": "stream",
          "name": "stderr",
          "text": [
            "/usr/local/lib/python3.10/dist-packages/sklearn/cluster/_kmeans.py:870: FutureWarning: The default value of `n_init` will change from 10 to 'auto' in 1.4. Set the value of `n_init` explicitly to suppress the warning\n",
            "  warnings.warn(\n",
            "/usr/local/lib/python3.10/dist-packages/sklearn/cluster/_kmeans.py:870: FutureWarning: The default value of `n_init` will change from 10 to 'auto' in 1.4. Set the value of `n_init` explicitly to suppress the warning\n",
            "  warnings.warn(\n",
            "/usr/local/lib/python3.10/dist-packages/sklearn/cluster/_kmeans.py:870: FutureWarning: The default value of `n_init` will change from 10 to 'auto' in 1.4. Set the value of `n_init` explicitly to suppress the warning\n",
            "  warnings.warn(\n",
            "/usr/local/lib/python3.10/dist-packages/sklearn/cluster/_kmeans.py:870: FutureWarning: The default value of `n_init` will change from 10 to 'auto' in 1.4. Set the value of `n_init` explicitly to suppress the warning\n",
            "  warnings.warn(\n",
            "/usr/local/lib/python3.10/dist-packages/sklearn/cluster/_kmeans.py:870: FutureWarning: The default value of `n_init` will change from 10 to 'auto' in 1.4. Set the value of `n_init` explicitly to suppress the warning\n",
            "  warnings.warn(\n",
            "/usr/local/lib/python3.10/dist-packages/sklearn/cluster/_kmeans.py:870: FutureWarning: The default value of `n_init` will change from 10 to 'auto' in 1.4. Set the value of `n_init` explicitly to suppress the warning\n",
            "  warnings.warn(\n"
          ]
        }
      ],
      "source": [
        "import numpy as np\n",
        "from sklearn.cluster import KMeans\n",
        "from sklearn.datasets import load_iris\n",
        "from sklearn.model_selection import train_test_split\n",
        "from sklearn.neighbors import KNeighborsClassifier\n",
        "from sklearn.metrics import confusion_matrix\n",
        "\n",
        "def cluster_data(X, y, num_subclasses_per_class, clustering_model):\n",
        "    clustered_data = []\n",
        "\n",
        "    unique_classes = np.unique(y)\n",
        "\n",
        "    for class_label in unique_classes:\n",
        "        # Select data points belonging to the current class\n",
        "        class_indices = np.where(y == class_label)[0]\n",
        "        class_data = X[class_indices]\n",
        "\n",
        "        # Apply clustering to the data of the current class\n",
        "        clustering_model.n_clusters = num_subclasses_per_class.get(class_label, 2)\n",
        "        labels = clustering_model.fit_predict(class_data)\n",
        "\n",
        "        # Create subclass labels indicative of the main class and cluster number\n",
        "        subclass_labels = np.array([f\"{class_label}_cluster_{cluster}\" for cluster in range(clustering_model.n_clusters)])\n",
        "\n",
        "        # Append the clustered data with indicative subclass labels to the result\n",
        "        clustered_data.extend(list(zip(class_data, subclass_labels[labels])))\n",
        "\n",
        "    # Separate clustered data into X_clustered and y_clustered\n",
        "    X_clustered, y_clustered = zip(*clustered_data)\n",
        "\n",
        "    return np.array(X_clustered), np.array(y_clustered)\n",
        "\n",
        "# Load Iris dataset\n",
        "iris = load_iris()\n",
        "X, y = iris.data, iris.target\n",
        "\n",
        "# Split the data into training and testing sets\n",
        "X_train, X_test, y_train, y_test = train_test_split(X, y, test_size=0.2, random_state=42)\n",
        "\n",
        "# Specify the number of subclasses for each class\n",
        "num_subclasses_per_class = {0: 2, 1: 3, 2: 2}\n",
        "\n",
        "# Choose a clustering technique (e.g., KMeans)\n",
        "clustering_model = KMeans()\n",
        "\n",
        "# Preprocess the training data\n",
        "X_train_clustered, y_train_clustered = cluster_data(X_train, y_train, num_subclasses_per_class, clustering_model)\n",
        "\n",
        "# Train a classifier (K-nearest neighbors as an example) at the subclass level\n",
        "classifier = KNeighborsClassifier(n_neighbors=3)\n",
        "classifier.fit(X_train_clustered, y_train_clustered)\n",
        "\n",
        "# During testing, aggregate predictions at the class level\n",
        "X_test_clustered, _ = cluster_data(X_test, y_test, num_subclasses_per_class, clustering_model)\n",
        "y_pred_subclass = classifier.predict(X_test_clustered)\n",
        "\n",
        "# Convert subclass predictions to class predictions\n",
        "y_pred_class = np.array([int(label.split('_')[0]) for label in y_pred_subclass])\n",
        "\n",
        "# Print subclass and equivalent class predictions\n",
        "print(\"Subclass Predictions:\")\n",
        "print(y_pred_subclass)\n",
        "print(\"Equivalent Class Predictions:\")\n",
        "print(y_pred_class)\n",
        "\n",
        "# Output the confusion matrix at the class level\n",
        "conf_matrix = confusion_matrix(y_test, y_pred_class)\n",
        "print(\"\\nConfusion Matrix (Class Level):\")\n",
        "print(conf_matrix)\n"
      ]
    }
  ]
}